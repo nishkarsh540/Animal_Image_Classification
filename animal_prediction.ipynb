{
 "cells": [
  {
   "cell_type": "code",
   "execution_count": 1,
   "metadata": {},
   "outputs": [
    {
     "name": "stderr",
     "output_type": "stream",
     "text": [
      "WARNING:absl:At this time, the v2.11+ optimizer `tf.keras.optimizers.SGD` runs slowly on M1/M2 Macs, please use the legacy Keras optimizer instead, located at `tf.keras.optimizers.legacy.SGD`.\n"
     ]
    },
    {
     "name": "stdout",
     "output_type": "stream",
     "text": [
      "1/1 [==============================] - 1s 593ms/step\n"
     ]
    },
    {
     "name": "stderr",
     "output_type": "stream",
     "text": [
      "High Performance MPEG 1.0/2.0/2.5 Audio Player for Layers 1, 2 and 3\n",
      "\tversion 1.32.3; written and copyright by Michael Hipp and others\n",
      "\tfree software (LGPL) without any warranty but with best wishes\n",
      "\n",
      "Playing MPEG stream 1 of 1: predicted_class.mp3 ...\n",
      "\n",
      "MPEG 2.0 L III cbr32 24000 mono\n",
      "\n",
      "[0:01] Decoding of predicted_class.mp3 finished.\n"
     ]
    },
    {
     "name": "stdout",
     "output_type": "stream",
     "text": [
      "1/1 [==============================] - 0s 45ms/step\n"
     ]
    },
    {
     "name": "stderr",
     "output_type": "stream",
     "text": [
      "High Performance MPEG 1.0/2.0/2.5 Audio Player for Layers 1, 2 and 3\n",
      "\tversion 1.32.3; written and copyright by Michael Hipp and others\n",
      "\tfree software (LGPL) without any warranty but with best wishes\n",
      "\n",
      "Playing MPEG stream 1 of 1: predicted_class.mp3 ...\n",
      "\n",
      "MPEG 2.0 L III cbr32 24000 mono\n",
      "\n",
      "[0:01] Decoding of predicted_class.mp3 finished.\n"
     ]
    },
    {
     "name": "stdout",
     "output_type": "stream",
     "text": [
      "1/1 [==============================] - 0s 43ms/step\n"
     ]
    },
    {
     "name": "stderr",
     "output_type": "stream",
     "text": [
      "High Performance MPEG 1.0/2.0/2.5 Audio Player for Layers 1, 2 and 3\n",
      "\tversion 1.32.3; written and copyright by Michael Hipp and others\n",
      "\tfree software (LGPL) without any warranty but with best wishes\n",
      "\n",
      "Playing MPEG stream 1 of 1: predicted_class.mp3 ...\n",
      "\n",
      "MPEG 2.0 L III cbr32 24000 mono\n",
      "\n",
      "[0:01] Decoding of predicted_class.mp3 finished.\n"
     ]
    },
    {
     "ename": "",
     "evalue": "",
     "output_type": "error",
     "traceback": [
      "\u001b[1;31mThe Kernel crashed while executing code in the the current cell or a previous cell. Please review the code in the cell(s) to identify a possible cause of the failure. Click <a href='https://aka.ms/vscodeJupyterKernelCrash'>here</a> for more info. View Jupyter <a href='command:jupyter.viewOutput'>log</a> for further details."
     ]
    }
   ],
   "source": [
    "import cv2\n",
    "import numpy as np\n",
    "from tensorflow.keras.models import load_model\n",
    "from tensorflow.keras.preprocessing import image\n",
    "from gtts import gTTS\n",
    "import os\n",
    "import platform\n",
    "import subprocess\n",
    "\n",
    "# Load the saved model\n",
    "model = load_model('models/animal_prediction.h5')  \n",
    "\n",
    "def preprocess_image(img):\n",
    "    img = cv2.resize(img, (224, 224)) \n",
    "    img = img[...,::-1] \n",
    "    img = np.expand_dims(img, axis=0)  \n",
    "    img = img / 255.0 \n",
    "    return img\n",
    "\n",
    "\n",
    "def predict_and_audio():\n",
    "    cap = cv2.VideoCapture(0)  \n",
    "    while True:\n",
    "        ret, frame = cap.read()  \n",
    "        cv2.imshow('frame', frame)  \n",
    "\n",
    "        if cv2.waitKey(1) & 0xFF == ord('p'):  \n",
    "            cv2.imwrite('captured_image.jpg', frame)  \n",
    "\n",
    "            img = cv2.imread('captured_image.jpg')\n",
    "            preprocessed_img = preprocess_image(img)\n",
    "\n",
    "\n",
    "            predictions = model.predict(preprocessed_img)\n",
    "            predicted_class = np.argmax(predictions, axis=1)[0]\n",
    "\n",
    "            class_labels = {0: 'antelope', 1: 'badger', 2: 'bat', 3: 'bear', 4: 'bee', 5: 'beetle', 6: 'bison', 7: 'boar', 8: 'butterfly', 9: 'cat', 10: 'caterpillar', 11: 'chimpanzee', 12: 'cockroach', 13: 'cow', 14: 'coyote', 15: 'crab', 16: 'crow', 17: 'deer', 18: 'dog', 19: 'dolphin', 20: 'donkey', 21: 'dragonfly', 22: 'duck', 23: 'eagle', 24: 'elephant', 25: 'flamingo', 26: 'fly', 27: 'fox', 28: 'goat', 29: 'goldfish', 30: 'goose', 31: 'gorilla', 32: 'grasshopper', 33: 'hamster', 34: 'hare', 35: 'hedgehog', 36: 'hippopotamus', 37: 'hornbill', 38: 'horse', 39: 'hummingbird', 40: 'hyena', 41: 'jellyfish', 42: 'kangaroo', 43: 'koala', 44: 'ladybugs', 45: 'leopard', 46: 'lion', 47: 'lizard', 48: 'lobster', 49: 'mosquito', 50: 'moth', 51: 'mouse', 52: 'octopus', 53: 'okapi', 54: 'orangutan', 55: 'otter', 56: 'owl', 57: 'ox', 58: 'oyster', 59: 'panda', 60: 'parrot', 61: 'pelecaniformes', 62: 'penguin', 63: 'pig', 64: 'pigeon', 65: 'porcupine', 66: 'possum', 67: 'raccoon', 68: 'rat', 69: 'reindeer', 70: 'rhinoceros', 71: 'sandpiper', 72: 'seahorse', 73: 'seal', 74: 'shark', 75: 'sheep', 76: 'snake', 77: 'sparrow', 78: 'squid', 79: 'squirrel', 80: 'starfish', 81: 'swan', 82: 'tiger', 83: 'turkey', 84: 'turtle', 85: 'whale', 86: 'wolf', 87: 'wombat', 88: 'woodpecker', 89: 'zebra'}  \n",
    "\n",
    "            predicted_class_name = class_labels.get(predicted_class, 'Unknown')\n",
    "            text_to_speak = f\"This is {predicted_class_name}\"\n",
    "            tts = gTTS(text=text_to_speak, lang='en')\n",
    "            audio_file = 'predicted_class.mp3'\n",
    "            tts.save(audio_file)  # Save the audio file\n",
    "            os.system(\"mpg123 predicted_class.mp3\")  # You may need to install mpg123 for playing MP3 files\n",
    "\n",
    "\n",
    "\n",
    "\n",
    "        if cv2.waitKey(1) & 0xFF == ord('q'):  # Press 'q' to exit\n",
    "            break\n",
    "\n",
    "    cap.release()\n",
    "    cv2.destroyAllWindows()\n",
    "\n",
    "predict_and_audio()\n"
   ]
  },
  {
   "cell_type": "code",
   "execution_count": null,
   "metadata": {},
   "outputs": [],
   "source": []
  }
 ],
 "metadata": {
  "kernelspec": {
   "display_name": "myenv",
   "language": "python",
   "name": "python3"
  },
  "language_info": {
   "codemirror_mode": {
    "name": "ipython",
    "version": 3
   },
   "file_extension": ".py",
   "mimetype": "text/x-python",
   "name": "python",
   "nbconvert_exporter": "python",
   "pygments_lexer": "ipython3",
   "version": "3.9.18"
  }
 },
 "nbformat": 4,
 "nbformat_minor": 2
}
